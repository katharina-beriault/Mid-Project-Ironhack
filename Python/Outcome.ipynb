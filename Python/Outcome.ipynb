{
 "cells": [
  {
   "cell_type": "markdown",
   "id": "618137a7",
   "metadata": {},
   "source": [
    "# Classification Model"
   ]
  },
  {
   "cell_type": "markdown",
   "id": "e4b309cb",
   "metadata": {
    "toc": true
   },
   "source": [
    "<h1>Table of Contents<span class=\"tocSkip\"></span></h1>\n",
    "<div class=\"toc\"><ul class=\"toc-item\"><li><span><a href=\"#Importing-libraries\" data-toc-modified-id=\"Importing-libraries-1\"><span class=\"toc-item-num\">1&nbsp;&nbsp;</span>Importing libraries</a></span></li><li><span><a href=\"#Importing-data\" data-toc-modified-id=\"Importing-data-2\"><span class=\"toc-item-num\">2&nbsp;&nbsp;</span>Importing data</a></span><ul class=\"toc-item\"><li><span><a href=\"#Import-via-SQL\" data-toc-modified-id=\"Import-via-SQL-2.1\"><span class=\"toc-item-num\">2.1&nbsp;&nbsp;</span>Import via SQL</a></span></li><li><span><a href=\"#Import-via-Pandas\" data-toc-modified-id=\"Import-via-Pandas-2.2\"><span class=\"toc-item-num\">2.2&nbsp;&nbsp;</span>Import via Pandas</a></span></li></ul></li><li><span><a href=\"#Data-cleaning-and-wrangling\" data-toc-modified-id=\"Data-cleaning-and-wrangling-3\"><span class=\"toc-item-num\">3&nbsp;&nbsp;</span>Data cleaning and wrangling</a></span><ul class=\"toc-item\"><li><span><a href=\"#Data-exploration\" data-toc-modified-id=\"Data-exploration-3.1\"><span class=\"toc-item-num\">3.1&nbsp;&nbsp;</span>Data exploration</a></span></li><li><span><a href=\"#Data-cleaning\" data-toc-modified-id=\"Data-cleaning-3.2\"><span class=\"toc-item-num\">3.2&nbsp;&nbsp;</span>Data cleaning</a></span><ul class=\"toc-item\"><li><span><a href=\"#Cleaning-column-names\" data-toc-modified-id=\"Cleaning-column-names-3.2.1\"><span class=\"toc-item-num\">3.2.1&nbsp;&nbsp;</span>Cleaning column names</a></span></li><li><span><a href=\"#Duplicates\" data-toc-modified-id=\"Duplicates-3.2.2\"><span class=\"toc-item-num\">3.2.2&nbsp;&nbsp;</span>Duplicates</a></span></li><li><span><a href=\"#Dealing-with-NaN-values\" data-toc-modified-id=\"Dealing-with-NaN-values-3.2.3\"><span class=\"toc-item-num\">3.2.3&nbsp;&nbsp;</span>Dealing with NaN-values</a></span></li><li><span><a href=\"#Checking-value-counts\" data-toc-modified-id=\"Checking-value-counts-3.2.4\"><span class=\"toc-item-num\">3.2.4&nbsp;&nbsp;</span>Checking value counts</a></span></li><li><span><a href=\"#Dealing-with-outliers\" data-toc-modified-id=\"Dealing-with-outliers-3.2.5\"><span class=\"toc-item-num\">3.2.5&nbsp;&nbsp;</span>Dealing with outliers</a></span></li></ul></li><li><span><a href=\"#Data-wrangling\" data-toc-modified-id=\"Data-wrangling-3.3\"><span class=\"toc-item-num\">3.3&nbsp;&nbsp;</span>Data wrangling</a></span><ul class=\"toc-item\"><li><span><a href=\"#Distribution\" data-toc-modified-id=\"Distribution-3.3.1\"><span class=\"toc-item-num\">3.3.1&nbsp;&nbsp;</span>Distribution</a></span></li><li><span><a href=\"#Scaling-the-data\" data-toc-modified-id=\"Scaling-the-data-3.3.2\"><span class=\"toc-item-num\">3.3.2&nbsp;&nbsp;</span>Scaling the data</a></span></li></ul></li></ul></li><li><span><a href=\"#Preprocessing-data\" data-toc-modified-id=\"Preprocessing-data-4\"><span class=\"toc-item-num\">4&nbsp;&nbsp;</span>Preprocessing data</a></span><ul class=\"toc-item\"><li><span><a href=\"#checking-correlation:-heatmap,-VIF,-chi-square-test\" data-toc-modified-id=\"checking-correlation:-heatmap,-VIF,-chi-square-test-4.1\"><span class=\"toc-item-num\">4.1&nbsp;&nbsp;</span>checking correlation: heatmap, VIF, chi square test</a></span><ul class=\"toc-item\"><li><span><a href=\"#Numerical-data\" data-toc-modified-id=\"Numerical-data-4.1.1\"><span class=\"toc-item-num\">4.1.1&nbsp;&nbsp;</span>Numerical data</a></span></li><li><span><a href=\"#Categorical-data\" data-toc-modified-id=\"Categorical-data-4.1.2\"><span class=\"toc-item-num\">4.1.2&nbsp;&nbsp;</span>Categorical data</a></span></li></ul></li><li><span><a href=\"#Encoding-categorical-variables\" data-toc-modified-id=\"Encoding-categorical-variables-4.2\"><span class=\"toc-item-num\">4.2&nbsp;&nbsp;</span>Encoding categorical variables</a></span></li><li><span><a href=\"#Conclusion:-feature-extraction\" data-toc-modified-id=\"Conclusion:-feature-extraction-4.3\"><span class=\"toc-item-num\">4.3&nbsp;&nbsp;</span>Conclusion: feature extraction</a></span></li></ul></li><li><span><a href=\"#Model-building\" data-toc-modified-id=\"Model-building-5\"><span class=\"toc-item-num\">5&nbsp;&nbsp;</span>Model building</a></span><ul class=\"toc-item\"><li><span><a href=\"#Train-test-split\" data-toc-modified-id=\"Train-test-split-5.1\"><span class=\"toc-item-num\">5.1&nbsp;&nbsp;</span>Train-test-split</a></span></li><li><span><a href=\"#Trying-different-models\" data-toc-modified-id=\"Trying-different-models-5.2\"><span class=\"toc-item-num\">5.2&nbsp;&nbsp;</span>Trying different models</a></span><ul class=\"toc-item\"><li><span><a href=\"#Logistic-regression-model\" data-toc-modified-id=\"Logistic-regression-model-5.2.1\"><span class=\"toc-item-num\">5.2.1&nbsp;&nbsp;</span>Logistic regression model</a></span></li><li><span><a href=\"#KNN-algorithm\" data-toc-modified-id=\"KNN-algorithm-5.2.2\"><span class=\"toc-item-num\">5.2.2&nbsp;&nbsp;</span>KNN algorithm</a></span></li></ul></li><li><span><a href=\"#Model-improvement\" data-toc-modified-id=\"Model-improvement-5.3\"><span class=\"toc-item-num\">5.3&nbsp;&nbsp;</span>Model improvement</a></span><ul class=\"toc-item\"><li><span><a href=\"#Dealing-with-data-imbalance\" data-toc-modified-id=\"Dealing-with-data-imbalance-5.3.1\"><span class=\"toc-item-num\">5.3.1&nbsp;&nbsp;</span>Dealing with data imbalance</a></span></li></ul></li></ul></li><li><span><a href=\"#Results\" data-toc-modified-id=\"Results-6\"><span class=\"toc-item-num\">6&nbsp;&nbsp;</span>Results</a></span></li></ul></div>"
   ]
  },
  {
   "cell_type": "markdown",
   "id": "38283938",
   "metadata": {},
   "source": [
    "## Importing libraries"
   ]
  },
  {
   "cell_type": "code",
   "execution_count": 39,
   "id": "bc43a970",
   "metadata": {},
   "outputs": [],
   "source": [
    "import pandas as pd\n",
    "import numpy as np\n",
    "\n",
    "import re\n",
    "\n",
    "import pymysql\n",
    "from sqlalchemy import create_engine\n",
    "import getpass\n",
    "\n",
    "import matplotlib.pyplot as plt\n",
    "import seaborn as sns\n",
    "\n",
    "from sklearn.model_selection import train_test_split\n",
    "from sklearn.linear_model import LogisticRegression\n",
    "from sklearn.metrics import confusion_matrix\n",
    "\n",
    "from sklearn.neighbors import KNeighborsClassifier\n",
    "from sklearn import metrics\n",
    "\n",
    "from scipy.stats.mstats import winsorize\n",
    "\n",
    "from imblearn.over_sampling import SMOTE\n",
    "from imblearn.under_sampling import TomekLinks\n",
    "\n",
    "import warnings\n",
    "warnings.filterwarnings('ignore')\n",
    "\n",
    "pd.options.display.max_columns = None\n"
   ]
  },
  {
   "cell_type": "code",
   "execution_count": 2,
   "id": "51ac87bc",
   "metadata": {},
   "outputs": [
    {
     "name": "stdout",
     "output_type": "stream",
     "text": [
      "········\n"
     ]
    }
   ],
   "source": [
    "password = getpass.getpass()"
   ]
  },
  {
   "cell_type": "markdown",
   "id": "bcb16647",
   "metadata": {},
   "source": [
    "## Importing data"
   ]
  },
  {
   "cell_type": "markdown",
   "id": "a0f4d21e",
   "metadata": {},
   "source": [
    "### Import via SQL"
   ]
  },
  {
   "cell_type": "code",
   "execution_count": 41,
   "id": "4e80287d",
   "metadata": {},
   "outputs": [],
   "source": [
    "connection_string = 'mysql+pymysql://root:' + password + '@localhost/credit_card_classification'\n",
    "engine = create_engine(connection_string)\n",
    "query = '''\n",
    "        SELECT *\n",
    "        FROM credit_card_data;\n",
    "        '''"
   ]
  },
  {
   "cell_type": "code",
   "execution_count": 42,
   "id": "dec446aa",
   "metadata": {},
   "outputs": [
    {
     "data": {
      "text/html": [
       "<div>\n",
       "<style scoped>\n",
       "    .dataframe tbody tr th:only-of-type {\n",
       "        vertical-align: middle;\n",
       "    }\n",
       "\n",
       "    .dataframe tbody tr th {\n",
       "        vertical-align: top;\n",
       "    }\n",
       "\n",
       "    .dataframe thead th {\n",
       "        text-align: right;\n",
       "    }\n",
       "</style>\n",
       "<table border=\"1\" class=\"dataframe\">\n",
       "  <thead>\n",
       "    <tr style=\"text-align: right;\">\n",
       "      <th></th>\n",
       "      <th>customer_number</th>\n",
       "      <th>offer_accepted</th>\n",
       "      <th>reward</th>\n",
       "      <th>mailer_type</th>\n",
       "      <th>income_level</th>\n",
       "      <th>bank_accounts_open</th>\n",
       "      <th>overdraft_protection</th>\n",
       "      <th>credit_rating</th>\n",
       "      <th>credit_cards_held</th>\n",
       "      <th>homes_owned</th>\n",
       "      <th>household_size</th>\n",
       "      <th>own_your_home</th>\n",
       "      <th>average_balance</th>\n",
       "      <th>q1_balance</th>\n",
       "      <th>q2_balance</th>\n",
       "      <th>q3_balance</th>\n",
       "    </tr>\n",
       "  </thead>\n",
       "  <tbody>\n",
       "    <tr>\n",
       "      <th>0</th>\n",
       "      <td>1</td>\n",
       "      <td>No</td>\n",
       "      <td>Air Miles</td>\n",
       "      <td>Letter</td>\n",
       "      <td>High</td>\n",
       "      <td>1</td>\n",
       "      <td>No</td>\n",
       "      <td>High</td>\n",
       "      <td>2</td>\n",
       "      <td>1</td>\n",
       "      <td>4</td>\n",
       "      <td>No</td>\n",
       "      <td>1160.75</td>\n",
       "      <td>1669</td>\n",
       "      <td>877</td>\n",
       "      <td>1095</td>\n",
       "    </tr>\n",
       "    <tr>\n",
       "      <th>1</th>\n",
       "      <td>2</td>\n",
       "      <td>No</td>\n",
       "      <td>Air Miles</td>\n",
       "      <td>Letter</td>\n",
       "      <td>Medium</td>\n",
       "      <td>1</td>\n",
       "      <td>No</td>\n",
       "      <td>Medium</td>\n",
       "      <td>2</td>\n",
       "      <td>2</td>\n",
       "      <td>5</td>\n",
       "      <td>Yes</td>\n",
       "      <td>147.25</td>\n",
       "      <td>39</td>\n",
       "      <td>106</td>\n",
       "      <td>78</td>\n",
       "    </tr>\n",
       "    <tr>\n",
       "      <th>2</th>\n",
       "      <td>3</td>\n",
       "      <td>No</td>\n",
       "      <td>Air Miles</td>\n",
       "      <td>Postcard</td>\n",
       "      <td>High</td>\n",
       "      <td>2</td>\n",
       "      <td>No</td>\n",
       "      <td>Medium</td>\n",
       "      <td>2</td>\n",
       "      <td>1</td>\n",
       "      <td>2</td>\n",
       "      <td>Yes</td>\n",
       "      <td>276.50</td>\n",
       "      <td>367</td>\n",
       "      <td>352</td>\n",
       "      <td>145</td>\n",
       "    </tr>\n",
       "    <tr>\n",
       "      <th>3</th>\n",
       "      <td>4</td>\n",
       "      <td>No</td>\n",
       "      <td>Air Miles</td>\n",
       "      <td>Letter</td>\n",
       "      <td>Medium</td>\n",
       "      <td>2</td>\n",
       "      <td>No</td>\n",
       "      <td>High</td>\n",
       "      <td>1</td>\n",
       "      <td>1</td>\n",
       "      <td>4</td>\n",
       "      <td>No</td>\n",
       "      <td>1219.00</td>\n",
       "      <td>1578</td>\n",
       "      <td>1760</td>\n",
       "      <td>1119</td>\n",
       "    </tr>\n",
       "    <tr>\n",
       "      <th>4</th>\n",
       "      <td>5</td>\n",
       "      <td>No</td>\n",
       "      <td>Air Miles</td>\n",
       "      <td>Letter</td>\n",
       "      <td>Medium</td>\n",
       "      <td>1</td>\n",
       "      <td>No</td>\n",
       "      <td>Medium</td>\n",
       "      <td>2</td>\n",
       "      <td>1</td>\n",
       "      <td>6</td>\n",
       "      <td>Yes</td>\n",
       "      <td>1211.00</td>\n",
       "      <td>2140</td>\n",
       "      <td>1357</td>\n",
       "      <td>982</td>\n",
       "    </tr>\n",
       "    <tr>\n",
       "      <th>...</th>\n",
       "      <td>...</td>\n",
       "      <td>...</td>\n",
       "      <td>...</td>\n",
       "      <td>...</td>\n",
       "      <td>...</td>\n",
       "      <td>...</td>\n",
       "      <td>...</td>\n",
       "      <td>...</td>\n",
       "      <td>...</td>\n",
       "      <td>...</td>\n",
       "      <td>...</td>\n",
       "      <td>...</td>\n",
       "      <td>...</td>\n",
       "      <td>...</td>\n",
       "      <td>...</td>\n",
       "      <td>...</td>\n",
       "    </tr>\n",
       "    <tr>\n",
       "      <th>17971</th>\n",
       "      <td>17996</td>\n",
       "      <td>No</td>\n",
       "      <td>Cash Back</td>\n",
       "      <td>Letter</td>\n",
       "      <td>High</td>\n",
       "      <td>1</td>\n",
       "      <td>No</td>\n",
       "      <td>Low</td>\n",
       "      <td>1</td>\n",
       "      <td>1</td>\n",
       "      <td>5</td>\n",
       "      <td>Yes</td>\n",
       "      <td>167.50</td>\n",
       "      <td>136</td>\n",
       "      <td>65</td>\n",
       "      <td>71</td>\n",
       "    </tr>\n",
       "    <tr>\n",
       "      <th>17972</th>\n",
       "      <td>17997</td>\n",
       "      <td>No</td>\n",
       "      <td>Cash Back</td>\n",
       "      <td>Letter</td>\n",
       "      <td>High</td>\n",
       "      <td>1</td>\n",
       "      <td>No</td>\n",
       "      <td>Low</td>\n",
       "      <td>3</td>\n",
       "      <td>1</td>\n",
       "      <td>3</td>\n",
       "      <td>Yes</td>\n",
       "      <td>850.50</td>\n",
       "      <td>984</td>\n",
       "      <td>940</td>\n",
       "      <td>943</td>\n",
       "    </tr>\n",
       "    <tr>\n",
       "      <th>17973</th>\n",
       "      <td>17998</td>\n",
       "      <td>No</td>\n",
       "      <td>Cash Back</td>\n",
       "      <td>Letter</td>\n",
       "      <td>High</td>\n",
       "      <td>1</td>\n",
       "      <td>No</td>\n",
       "      <td>Low</td>\n",
       "      <td>2</td>\n",
       "      <td>1</td>\n",
       "      <td>4</td>\n",
       "      <td>No</td>\n",
       "      <td>1087.25</td>\n",
       "      <td>918</td>\n",
       "      <td>767</td>\n",
       "      <td>1170</td>\n",
       "    </tr>\n",
       "    <tr>\n",
       "      <th>17974</th>\n",
       "      <td>17999</td>\n",
       "      <td>No</td>\n",
       "      <td>Cash Back</td>\n",
       "      <td>Letter</td>\n",
       "      <td>Medium</td>\n",
       "      <td>1</td>\n",
       "      <td>No</td>\n",
       "      <td>Medium</td>\n",
       "      <td>4</td>\n",
       "      <td>2</td>\n",
       "      <td>2</td>\n",
       "      <td>Yes</td>\n",
       "      <td>1022.25</td>\n",
       "      <td>626</td>\n",
       "      <td>983</td>\n",
       "      <td>865</td>\n",
       "    </tr>\n",
       "    <tr>\n",
       "      <th>17975</th>\n",
       "      <td>18000</td>\n",
       "      <td>No</td>\n",
       "      <td>Cash Back</td>\n",
       "      <td>Letter</td>\n",
       "      <td>Low</td>\n",
       "      <td>2</td>\n",
       "      <td>No</td>\n",
       "      <td>Medium</td>\n",
       "      <td>2</td>\n",
       "      <td>1</td>\n",
       "      <td>3</td>\n",
       "      <td>No</td>\n",
       "      <td>1056.00</td>\n",
       "      <td>265</td>\n",
       "      <td>1378</td>\n",
       "      <td>1978</td>\n",
       "    </tr>\n",
       "  </tbody>\n",
       "</table>\n",
       "<p>17976 rows × 16 columns</p>\n",
       "</div>"
      ],
      "text/plain": [
       "       customer_number offer_accepted     reward mailer_type income_level  \\\n",
       "0                    1             No  Air Miles      Letter         High   \n",
       "1                    2             No  Air Miles      Letter       Medium   \n",
       "2                    3             No  Air Miles    Postcard         High   \n",
       "3                    4             No  Air Miles      Letter       Medium   \n",
       "4                    5             No  Air Miles      Letter       Medium   \n",
       "...                ...            ...        ...         ...          ...   \n",
       "17971            17996             No  Cash Back      Letter         High   \n",
       "17972            17997             No  Cash Back      Letter         High   \n",
       "17973            17998             No  Cash Back      Letter         High   \n",
       "17974            17999             No  Cash Back      Letter       Medium   \n",
       "17975            18000             No  Cash Back      Letter          Low   \n",
       "\n",
       "       bank_accounts_open overdraft_protection credit_rating  \\\n",
       "0                       1                   No          High   \n",
       "1                       1                   No        Medium   \n",
       "2                       2                   No        Medium   \n",
       "3                       2                   No          High   \n",
       "4                       1                   No        Medium   \n",
       "...                   ...                  ...           ...   \n",
       "17971                   1                   No           Low   \n",
       "17972                   1                   No           Low   \n",
       "17973                   1                   No           Low   \n",
       "17974                   1                   No        Medium   \n",
       "17975                   2                   No        Medium   \n",
       "\n",
       "       credit_cards_held  homes_owned  household_size own_your_home  \\\n",
       "0                      2            1               4            No   \n",
       "1                      2            2               5           Yes   \n",
       "2                      2            1               2           Yes   \n",
       "3                      1            1               4            No   \n",
       "4                      2            1               6           Yes   \n",
       "...                  ...          ...             ...           ...   \n",
       "17971                  1            1               5           Yes   \n",
       "17972                  3            1               3           Yes   \n",
       "17973                  2            1               4            No   \n",
       "17974                  4            2               2           Yes   \n",
       "17975                  2            1               3            No   \n",
       "\n",
       "       average_balance  q1_balance  q2_balance  q3_balance  \n",
       "0              1160.75        1669         877        1095  \n",
       "1               147.25          39         106          78  \n",
       "2               276.50         367         352         145  \n",
       "3              1219.00        1578        1760        1119  \n",
       "4              1211.00        2140        1357         982  \n",
       "...                ...         ...         ...         ...  \n",
       "17971           167.50         136          65          71  \n",
       "17972           850.50         984         940         943  \n",
       "17973          1087.25         918         767        1170  \n",
       "17974          1022.25         626         983         865  \n",
       "17975          1056.00         265        1378        1978  \n",
       "\n",
       "[17976 rows x 16 columns]"
      ]
     },
     "execution_count": 42,
     "metadata": {},
     "output_type": "execute_result"
    }
   ],
   "source": [
    "data = pd.read_sql_query(query, engine)\n",
    "data"
   ]
  },
  {
   "cell_type": "markdown",
   "id": "fb835233",
   "metadata": {},
   "source": [
    "- while importing data in SQL Workbench with the import wizard, 24 rows of the data frame were lost\n",
    "- therefore for this analysis the data will be uploaded via the csv-file directly"
   ]
  },
  {
   "cell_type": "markdown",
   "id": "0c1df9c8",
   "metadata": {},
   "source": [
    "### Import via Pandas"
   ]
  },
  {
   "cell_type": "code",
   "execution_count": 26,
   "id": "ae9eae13",
   "metadata": {},
   "outputs": [
    {
     "data": {
      "text/html": [
       "<div>\n",
       "<style scoped>\n",
       "    .dataframe tbody tr th:only-of-type {\n",
       "        vertical-align: middle;\n",
       "    }\n",
       "\n",
       "    .dataframe tbody tr th {\n",
       "        vertical-align: top;\n",
       "    }\n",
       "\n",
       "    .dataframe thead th {\n",
       "        text-align: right;\n",
       "    }\n",
       "</style>\n",
       "<table border=\"1\" class=\"dataframe\">\n",
       "  <thead>\n",
       "    <tr style=\"text-align: right;\">\n",
       "      <th></th>\n",
       "      <th>Customer Number</th>\n",
       "      <th>Offer Accepted</th>\n",
       "      <th>Reward</th>\n",
       "      <th>Mailer Type</th>\n",
       "      <th>Income Level</th>\n",
       "      <th># Bank Accounts Open</th>\n",
       "      <th>Overdraft Protection</th>\n",
       "      <th>Credit Rating</th>\n",
       "      <th># Credit Cards Held</th>\n",
       "      <th># Homes Owned</th>\n",
       "      <th>Household Size</th>\n",
       "      <th>Own Your Home</th>\n",
       "      <th>Average Balance</th>\n",
       "      <th>Q1 Balance</th>\n",
       "      <th>Q2 Balance</th>\n",
       "      <th>Q3 Balance</th>\n",
       "      <th>Q4 Balance</th>\n",
       "    </tr>\n",
       "  </thead>\n",
       "  <tbody>\n",
       "    <tr>\n",
       "      <th>0</th>\n",
       "      <td>1</td>\n",
       "      <td>No</td>\n",
       "      <td>Air Miles</td>\n",
       "      <td>Letter</td>\n",
       "      <td>High</td>\n",
       "      <td>1</td>\n",
       "      <td>No</td>\n",
       "      <td>High</td>\n",
       "      <td>2</td>\n",
       "      <td>1</td>\n",
       "      <td>4</td>\n",
       "      <td>No</td>\n",
       "      <td>1160.75</td>\n",
       "      <td>1669.0</td>\n",
       "      <td>877.0</td>\n",
       "      <td>1095.0</td>\n",
       "      <td>1002.0</td>\n",
       "    </tr>\n",
       "    <tr>\n",
       "      <th>1</th>\n",
       "      <td>2</td>\n",
       "      <td>No</td>\n",
       "      <td>Air Miles</td>\n",
       "      <td>Letter</td>\n",
       "      <td>Medium</td>\n",
       "      <td>1</td>\n",
       "      <td>No</td>\n",
       "      <td>Medium</td>\n",
       "      <td>2</td>\n",
       "      <td>2</td>\n",
       "      <td>5</td>\n",
       "      <td>Yes</td>\n",
       "      <td>147.25</td>\n",
       "      <td>39.0</td>\n",
       "      <td>106.0</td>\n",
       "      <td>78.0</td>\n",
       "      <td>366.0</td>\n",
       "    </tr>\n",
       "    <tr>\n",
       "      <th>2</th>\n",
       "      <td>3</td>\n",
       "      <td>No</td>\n",
       "      <td>Air Miles</td>\n",
       "      <td>Postcard</td>\n",
       "      <td>High</td>\n",
       "      <td>2</td>\n",
       "      <td>No</td>\n",
       "      <td>Medium</td>\n",
       "      <td>2</td>\n",
       "      <td>1</td>\n",
       "      <td>2</td>\n",
       "      <td>Yes</td>\n",
       "      <td>276.50</td>\n",
       "      <td>367.0</td>\n",
       "      <td>352.0</td>\n",
       "      <td>145.0</td>\n",
       "      <td>242.0</td>\n",
       "    </tr>\n",
       "    <tr>\n",
       "      <th>3</th>\n",
       "      <td>4</td>\n",
       "      <td>No</td>\n",
       "      <td>Air Miles</td>\n",
       "      <td>Letter</td>\n",
       "      <td>Medium</td>\n",
       "      <td>2</td>\n",
       "      <td>No</td>\n",
       "      <td>High</td>\n",
       "      <td>1</td>\n",
       "      <td>1</td>\n",
       "      <td>4</td>\n",
       "      <td>No</td>\n",
       "      <td>1219.00</td>\n",
       "      <td>1578.0</td>\n",
       "      <td>1760.0</td>\n",
       "      <td>1119.0</td>\n",
       "      <td>419.0</td>\n",
       "    </tr>\n",
       "    <tr>\n",
       "      <th>4</th>\n",
       "      <td>5</td>\n",
       "      <td>No</td>\n",
       "      <td>Air Miles</td>\n",
       "      <td>Letter</td>\n",
       "      <td>Medium</td>\n",
       "      <td>1</td>\n",
       "      <td>No</td>\n",
       "      <td>Medium</td>\n",
       "      <td>2</td>\n",
       "      <td>1</td>\n",
       "      <td>6</td>\n",
       "      <td>Yes</td>\n",
       "      <td>1211.00</td>\n",
       "      <td>2140.0</td>\n",
       "      <td>1357.0</td>\n",
       "      <td>982.0</td>\n",
       "      <td>365.0</td>\n",
       "    </tr>\n",
       "    <tr>\n",
       "      <th>...</th>\n",
       "      <td>...</td>\n",
       "      <td>...</td>\n",
       "      <td>...</td>\n",
       "      <td>...</td>\n",
       "      <td>...</td>\n",
       "      <td>...</td>\n",
       "      <td>...</td>\n",
       "      <td>...</td>\n",
       "      <td>...</td>\n",
       "      <td>...</td>\n",
       "      <td>...</td>\n",
       "      <td>...</td>\n",
       "      <td>...</td>\n",
       "      <td>...</td>\n",
       "      <td>...</td>\n",
       "      <td>...</td>\n",
       "      <td>...</td>\n",
       "    </tr>\n",
       "    <tr>\n",
       "      <th>17995</th>\n",
       "      <td>17996</td>\n",
       "      <td>No</td>\n",
       "      <td>Cash Back</td>\n",
       "      <td>Letter</td>\n",
       "      <td>High</td>\n",
       "      <td>1</td>\n",
       "      <td>No</td>\n",
       "      <td>Low</td>\n",
       "      <td>1</td>\n",
       "      <td>1</td>\n",
       "      <td>5</td>\n",
       "      <td>Yes</td>\n",
       "      <td>167.50</td>\n",
       "      <td>136.0</td>\n",
       "      <td>65.0</td>\n",
       "      <td>71.0</td>\n",
       "      <td>398.0</td>\n",
       "    </tr>\n",
       "    <tr>\n",
       "      <th>17996</th>\n",
       "      <td>17997</td>\n",
       "      <td>No</td>\n",
       "      <td>Cash Back</td>\n",
       "      <td>Letter</td>\n",
       "      <td>High</td>\n",
       "      <td>1</td>\n",
       "      <td>No</td>\n",
       "      <td>Low</td>\n",
       "      <td>3</td>\n",
       "      <td>1</td>\n",
       "      <td>3</td>\n",
       "      <td>Yes</td>\n",
       "      <td>850.50</td>\n",
       "      <td>984.0</td>\n",
       "      <td>940.0</td>\n",
       "      <td>943.0</td>\n",
       "      <td>535.0</td>\n",
       "    </tr>\n",
       "    <tr>\n",
       "      <th>17997</th>\n",
       "      <td>17998</td>\n",
       "      <td>No</td>\n",
       "      <td>Cash Back</td>\n",
       "      <td>Letter</td>\n",
       "      <td>High</td>\n",
       "      <td>1</td>\n",
       "      <td>No</td>\n",
       "      <td>Low</td>\n",
       "      <td>2</td>\n",
       "      <td>1</td>\n",
       "      <td>4</td>\n",
       "      <td>No</td>\n",
       "      <td>1087.25</td>\n",
       "      <td>918.0</td>\n",
       "      <td>767.0</td>\n",
       "      <td>1170.0</td>\n",
       "      <td>1494.0</td>\n",
       "    </tr>\n",
       "    <tr>\n",
       "      <th>17998</th>\n",
       "      <td>17999</td>\n",
       "      <td>No</td>\n",
       "      <td>Cash Back</td>\n",
       "      <td>Letter</td>\n",
       "      <td>Medium</td>\n",
       "      <td>1</td>\n",
       "      <td>No</td>\n",
       "      <td>Medium</td>\n",
       "      <td>4</td>\n",
       "      <td>2</td>\n",
       "      <td>2</td>\n",
       "      <td>Yes</td>\n",
       "      <td>1022.25</td>\n",
       "      <td>626.0</td>\n",
       "      <td>983.0</td>\n",
       "      <td>865.0</td>\n",
       "      <td>1615.0</td>\n",
       "    </tr>\n",
       "    <tr>\n",
       "      <th>17999</th>\n",
       "      <td>18000</td>\n",
       "      <td>No</td>\n",
       "      <td>Cash Back</td>\n",
       "      <td>Letter</td>\n",
       "      <td>Low</td>\n",
       "      <td>2</td>\n",
       "      <td>No</td>\n",
       "      <td>Medium</td>\n",
       "      <td>2</td>\n",
       "      <td>1</td>\n",
       "      <td>3</td>\n",
       "      <td>No</td>\n",
       "      <td>1056.00</td>\n",
       "      <td>265.0</td>\n",
       "      <td>1378.0</td>\n",
       "      <td>1978.0</td>\n",
       "      <td>603.0</td>\n",
       "    </tr>\n",
       "  </tbody>\n",
       "</table>\n",
       "<p>18000 rows × 17 columns</p>\n",
       "</div>"
      ],
      "text/plain": [
       "       Customer Number Offer Accepted     Reward Mailer Type Income Level  \\\n",
       "0                    1             No  Air Miles      Letter         High   \n",
       "1                    2             No  Air Miles      Letter       Medium   \n",
       "2                    3             No  Air Miles    Postcard         High   \n",
       "3                    4             No  Air Miles      Letter       Medium   \n",
       "4                    5             No  Air Miles      Letter       Medium   \n",
       "...                ...            ...        ...         ...          ...   \n",
       "17995            17996             No  Cash Back      Letter         High   \n",
       "17996            17997             No  Cash Back      Letter         High   \n",
       "17997            17998             No  Cash Back      Letter         High   \n",
       "17998            17999             No  Cash Back      Letter       Medium   \n",
       "17999            18000             No  Cash Back      Letter          Low   \n",
       "\n",
       "       # Bank Accounts Open Overdraft Protection Credit Rating  \\\n",
       "0                         1                   No          High   \n",
       "1                         1                   No        Medium   \n",
       "2                         2                   No        Medium   \n",
       "3                         2                   No          High   \n",
       "4                         1                   No        Medium   \n",
       "...                     ...                  ...           ...   \n",
       "17995                     1                   No           Low   \n",
       "17996                     1                   No           Low   \n",
       "17997                     1                   No           Low   \n",
       "17998                     1                   No        Medium   \n",
       "17999                     2                   No        Medium   \n",
       "\n",
       "       # Credit Cards Held  # Homes Owned  Household Size Own Your Home  \\\n",
       "0                        2              1               4            No   \n",
       "1                        2              2               5           Yes   \n",
       "2                        2              1               2           Yes   \n",
       "3                        1              1               4            No   \n",
       "4                        2              1               6           Yes   \n",
       "...                    ...            ...             ...           ...   \n",
       "17995                    1              1               5           Yes   \n",
       "17996                    3              1               3           Yes   \n",
       "17997                    2              1               4            No   \n",
       "17998                    4              2               2           Yes   \n",
       "17999                    2              1               3            No   \n",
       "\n",
       "       Average Balance  Q1 Balance  Q2 Balance  Q3 Balance  Q4 Balance  \n",
       "0              1160.75      1669.0       877.0      1095.0      1002.0  \n",
       "1               147.25        39.0       106.0        78.0       366.0  \n",
       "2               276.50       367.0       352.0       145.0       242.0  \n",
       "3              1219.00      1578.0      1760.0      1119.0       419.0  \n",
       "4              1211.00      2140.0      1357.0       982.0       365.0  \n",
       "...                ...         ...         ...         ...         ...  \n",
       "17995           167.50       136.0        65.0        71.0       398.0  \n",
       "17996           850.50       984.0       940.0       943.0       535.0  \n",
       "17997          1087.25       918.0       767.0      1170.0      1494.0  \n",
       "17998          1022.25       626.0       983.0       865.0      1615.0  \n",
       "17999          1056.00       265.0      1378.0      1978.0       603.0  \n",
       "\n",
       "[18000 rows x 17 columns]"
      ]
     },
     "execution_count": 26,
     "metadata": {},
     "output_type": "execute_result"
    }
   ],
   "source": [
    "data = pd.read_csv('creditcardmarketing.csv')\n",
    "data"
   ]
  },
  {
   "cell_type": "code",
   "execution_count": null,
   "id": "a0913c5f",
   "metadata": {},
   "outputs": [],
   "source": []
  },
  {
   "cell_type": "markdown",
   "id": "037ae1c0",
   "metadata": {},
   "source": [
    "## Data cleaning and wrangling"
   ]
  },
  {
   "cell_type": "markdown",
   "id": "5327836f",
   "metadata": {},
   "source": [
    "### Data exploration"
   ]
  },
  {
   "cell_type": "code",
   "execution_count": 43,
   "id": "d96229be",
   "metadata": {},
   "outputs": [
    {
     "data": {
      "text/plain": [
       "(17976, 16)"
      ]
     },
     "execution_count": 43,
     "metadata": {},
     "output_type": "execute_result"
    }
   ],
   "source": [
    "data.shape"
   ]
  },
  {
   "cell_type": "code",
   "execution_count": 44,
   "id": "1f456634",
   "metadata": {},
   "outputs": [
    {
     "name": "stdout",
     "output_type": "stream",
     "text": [
      "<class 'pandas.core.frame.DataFrame'>\n",
      "RangeIndex: 17976 entries, 0 to 17975\n",
      "Data columns (total 16 columns):\n",
      " #   Column                Non-Null Count  Dtype  \n",
      "---  ------                --------------  -----  \n",
      " 0   customer_number       17976 non-null  int64  \n",
      " 1   offer_accepted        17976 non-null  object \n",
      " 2   reward                17976 non-null  object \n",
      " 3   mailer_type           17976 non-null  object \n",
      " 4   income_level          17976 non-null  object \n",
      " 5   bank_accounts_open    17976 non-null  int64  \n",
      " 6   overdraft_protection  17976 non-null  object \n",
      " 7   credit_rating         17976 non-null  object \n",
      " 8   credit_cards_held     17976 non-null  int64  \n",
      " 9   homes_owned           17976 non-null  int64  \n",
      " 10  household_size        17976 non-null  int64  \n",
      " 11  own_your_home         17976 non-null  object \n",
      " 12  average_balance       17976 non-null  float64\n",
      " 13  q1_balance            17976 non-null  int64  \n",
      " 14  q2_balance            17976 non-null  int64  \n",
      " 15  q3_balance            17976 non-null  int64  \n",
      "dtypes: float64(1), int64(8), object(7)\n",
      "memory usage: 2.2+ MB\n"
     ]
    }
   ],
   "source": [
    "data.info()"
   ]
  },
  {
   "cell_type": "code",
   "execution_count": 10,
   "id": "5ede1a75",
   "metadata": {},
   "outputs": [
    {
     "data": {
      "text/html": [
       "<div>\n",
       "<style scoped>\n",
       "    .dataframe tbody tr th:only-of-type {\n",
       "        vertical-align: middle;\n",
       "    }\n",
       "\n",
       "    .dataframe tbody tr th {\n",
       "        vertical-align: top;\n",
       "    }\n",
       "\n",
       "    .dataframe thead th {\n",
       "        text-align: right;\n",
       "    }\n",
       "</style>\n",
       "<table border=\"1\" class=\"dataframe\">\n",
       "  <thead>\n",
       "    <tr style=\"text-align: right;\">\n",
       "      <th></th>\n",
       "      <th>count</th>\n",
       "      <th>mean</th>\n",
       "      <th>std</th>\n",
       "      <th>min</th>\n",
       "      <th>25%</th>\n",
       "      <th>50%</th>\n",
       "      <th>75%</th>\n",
       "      <th>max</th>\n",
       "    </tr>\n",
       "  </thead>\n",
       "  <tbody>\n",
       "    <tr>\n",
       "      <th>Customer Number</th>\n",
       "      <td>18000.0</td>\n",
       "      <td>9000.500000</td>\n",
       "      <td>5196.296758</td>\n",
       "      <td>1.00</td>\n",
       "      <td>4500.75</td>\n",
       "      <td>9000.5</td>\n",
       "      <td>13500.25</td>\n",
       "      <td>18000.00</td>\n",
       "    </tr>\n",
       "    <tr>\n",
       "      <th># Bank Accounts Open</th>\n",
       "      <td>18000.0</td>\n",
       "      <td>1.255778</td>\n",
       "      <td>0.472501</td>\n",
       "      <td>1.00</td>\n",
       "      <td>1.00</td>\n",
       "      <td>1.0</td>\n",
       "      <td>1.00</td>\n",
       "      <td>3.00</td>\n",
       "    </tr>\n",
       "    <tr>\n",
       "      <th># Credit Cards Held</th>\n",
       "      <td>18000.0</td>\n",
       "      <td>1.903500</td>\n",
       "      <td>0.797009</td>\n",
       "      <td>1.00</td>\n",
       "      <td>1.00</td>\n",
       "      <td>2.0</td>\n",
       "      <td>2.00</td>\n",
       "      <td>4.00</td>\n",
       "    </tr>\n",
       "    <tr>\n",
       "      <th># Homes Owned</th>\n",
       "      <td>18000.0</td>\n",
       "      <td>1.203444</td>\n",
       "      <td>0.427341</td>\n",
       "      <td>1.00</td>\n",
       "      <td>1.00</td>\n",
       "      <td>1.0</td>\n",
       "      <td>1.00</td>\n",
       "      <td>3.00</td>\n",
       "    </tr>\n",
       "    <tr>\n",
       "      <th>Household Size</th>\n",
       "      <td>18000.0</td>\n",
       "      <td>3.499056</td>\n",
       "      <td>1.114182</td>\n",
       "      <td>1.00</td>\n",
       "      <td>3.00</td>\n",
       "      <td>3.0</td>\n",
       "      <td>4.00</td>\n",
       "      <td>9.00</td>\n",
       "    </tr>\n",
       "    <tr>\n",
       "      <th>Average Balance</th>\n",
       "      <td>17976.0</td>\n",
       "      <td>940.515562</td>\n",
       "      <td>350.297837</td>\n",
       "      <td>48.25</td>\n",
       "      <td>787.50</td>\n",
       "      <td>1007.0</td>\n",
       "      <td>1153.25</td>\n",
       "      <td>3366.25</td>\n",
       "    </tr>\n",
       "    <tr>\n",
       "      <th>Q1 Balance</th>\n",
       "      <td>17976.0</td>\n",
       "      <td>910.450656</td>\n",
       "      <td>620.077060</td>\n",
       "      <td>0.00</td>\n",
       "      <td>392.75</td>\n",
       "      <td>772.0</td>\n",
       "      <td>1521.00</td>\n",
       "      <td>3450.00</td>\n",
       "    </tr>\n",
       "    <tr>\n",
       "      <th>Q2 Balance</th>\n",
       "      <td>17976.0</td>\n",
       "      <td>999.392190</td>\n",
       "      <td>457.402268</td>\n",
       "      <td>0.00</td>\n",
       "      <td>663.00</td>\n",
       "      <td>1032.0</td>\n",
       "      <td>1342.00</td>\n",
       "      <td>3421.00</td>\n",
       "    </tr>\n",
       "    <tr>\n",
       "      <th>Q3 Balance</th>\n",
       "      <td>17976.0</td>\n",
       "      <td>1042.033600</td>\n",
       "      <td>553.452599</td>\n",
       "      <td>0.00</td>\n",
       "      <td>633.00</td>\n",
       "      <td>945.5</td>\n",
       "      <td>1463.00</td>\n",
       "      <td>3823.00</td>\n",
       "    </tr>\n",
       "    <tr>\n",
       "      <th>Q4 Balance</th>\n",
       "      <td>17976.0</td>\n",
       "      <td>810.185803</td>\n",
       "      <td>559.001365</td>\n",
       "      <td>0.00</td>\n",
       "      <td>363.00</td>\n",
       "      <td>703.0</td>\n",
       "      <td>1212.00</td>\n",
       "      <td>4215.00</td>\n",
       "    </tr>\n",
       "  </tbody>\n",
       "</table>\n",
       "</div>"
      ],
      "text/plain": [
       "                        count         mean          std    min      25%  \\\n",
       "Customer Number       18000.0  9000.500000  5196.296758   1.00  4500.75   \n",
       "# Bank Accounts Open  18000.0     1.255778     0.472501   1.00     1.00   \n",
       "# Credit Cards Held   18000.0     1.903500     0.797009   1.00     1.00   \n",
       "# Homes Owned         18000.0     1.203444     0.427341   1.00     1.00   \n",
       "Household Size        18000.0     3.499056     1.114182   1.00     3.00   \n",
       "Average Balance       17976.0   940.515562   350.297837  48.25   787.50   \n",
       "Q1 Balance            17976.0   910.450656   620.077060   0.00   392.75   \n",
       "Q2 Balance            17976.0   999.392190   457.402268   0.00   663.00   \n",
       "Q3 Balance            17976.0  1042.033600   553.452599   0.00   633.00   \n",
       "Q4 Balance            17976.0   810.185803   559.001365   0.00   363.00   \n",
       "\n",
       "                         50%       75%       max  \n",
       "Customer Number       9000.5  13500.25  18000.00  \n",
       "# Bank Accounts Open     1.0      1.00      3.00  \n",
       "# Credit Cards Held      2.0      2.00      4.00  \n",
       "# Homes Owned            1.0      1.00      3.00  \n",
       "Household Size           3.0      4.00      9.00  \n",
       "Average Balance       1007.0   1153.25   3366.25  \n",
       "Q1 Balance             772.0   1521.00   3450.00  \n",
       "Q2 Balance            1032.0   1342.00   3421.00  \n",
       "Q3 Balance             945.5   1463.00   3823.00  \n",
       "Q4 Balance             703.0   1212.00   4215.00  "
      ]
     },
     "execution_count": 10,
     "metadata": {},
     "output_type": "execute_result"
    }
   ],
   "source": [
    "data.describe().T"
   ]
  },
  {
   "cell_type": "markdown",
   "id": "1a1cb46c",
   "metadata": {},
   "source": [
    "### Data cleaning"
   ]
  },
  {
   "cell_type": "markdown",
   "id": "541e8c97",
   "metadata": {},
   "source": [
    "#### Cleaning column names"
   ]
  },
  {
   "cell_type": "code",
   "execution_count": 27,
   "id": "dd2eae10",
   "metadata": {},
   "outputs": [],
   "source": [
    "def clean_headers(df):\n",
    "    df.columns = df.columns.str.lower().str.replace(' ', '_').str.replace('#', 'number')\n",
    "    return df"
   ]
  },
  {
   "cell_type": "code",
   "execution_count": 32,
   "id": "6cff07b4",
   "metadata": {},
   "outputs": [
    {
     "data": {
      "text/plain": [
       "Index(['customer_number', 'offer_accepted', 'reward', 'mailer_type',\n",
       "       'income_level', 'number_bank_accounts_open', 'overdraft_protection',\n",
       "       'credit_rating', 'number_credit_cards_held', 'number_homes_owned',\n",
       "       'household_size', 'own_your_home', 'average_balance', 'q1_balance',\n",
       "       'q2_balance', 'q3_balance', 'q4_balance'],\n",
       "      dtype='object')"
      ]
     },
     "execution_count": 32,
     "metadata": {},
     "output_type": "execute_result"
    }
   ],
   "source": [
    "data = clean_headers(data)\n",
    "data.columns"
   ]
  },
  {
   "cell_type": "markdown",
   "id": "85934d6b",
   "metadata": {},
   "source": [
    "#### Duplicates"
   ]
  },
  {
   "cell_type": "code",
   "execution_count": null,
   "id": "4d9309ab",
   "metadata": {},
   "outputs": [],
   "source": [
    "data = data.drop_duplicates()\n",
    "data.shape"
   ]
  },
  {
   "cell_type": "markdown",
   "id": "630dc786",
   "metadata": {},
   "source": [
    "no duplicates"
   ]
  },
  {
   "cell_type": "markdown",
   "id": "0e3a1d3a",
   "metadata": {},
   "source": [
    "#### Dealing with NaN-values"
   ]
  },
  {
   "cell_type": "markdown",
   "id": "7ed6c5e3",
   "metadata": {},
   "source": [
    "**NaN-values column-wise:**"
   ]
  },
  {
   "cell_type": "code",
   "execution_count": 13,
   "id": "08da78c6",
   "metadata": {},
   "outputs": [
    {
     "data": {
      "text/plain": [
       "customer_number               0\n",
       "offer_accepted                0\n",
       "reward                        0\n",
       "mailer_type                   0\n",
       "income_level                  0\n",
       "number_bank_accounts_open     0\n",
       "overdraft_protection          0\n",
       "credit_rating                 0\n",
       "number_credit_cards_held      0\n",
       "number_homes_owned            0\n",
       "household_size                0\n",
       "own_your_home                 0\n",
       "average_balance              24\n",
       "q1_balance                   24\n",
       "q2_balance                   24\n",
       "q3_balance                   24\n",
       "q4_balance                   24\n",
       "dtype: int64"
      ]
     },
     "execution_count": 13,
     "metadata": {},
     "output_type": "execute_result"
    }
   ],
   "source": [
    "data.isna().sum()"
   ]
  },
  {
   "cell_type": "code",
   "execution_count": 14,
   "id": "f2059a92",
   "metadata": {},
   "outputs": [],
   "source": [
    "def per_NaN_columns(df):\n",
    "    nulls = pd.DataFrame(df.isna().sum()*100/len(df), columns=['percentage_nulls'])\n",
    "    nulls.sort_values('percentage_nulls', ascending = False)\n",
    "    return nulls"
   ]
  },
  {
   "cell_type": "code",
   "execution_count": 15,
   "id": "ac45bbdc",
   "metadata": {},
   "outputs": [
    {
     "data": {
      "text/html": [
       "<div>\n",
       "<style scoped>\n",
       "    .dataframe tbody tr th:only-of-type {\n",
       "        vertical-align: middle;\n",
       "    }\n",
       "\n",
       "    .dataframe tbody tr th {\n",
       "        vertical-align: top;\n",
       "    }\n",
       "\n",
       "    .dataframe thead th {\n",
       "        text-align: right;\n",
       "    }\n",
       "</style>\n",
       "<table border=\"1\" class=\"dataframe\">\n",
       "  <thead>\n",
       "    <tr style=\"text-align: right;\">\n",
       "      <th></th>\n",
       "      <th>percentage_nulls</th>\n",
       "    </tr>\n",
       "  </thead>\n",
       "  <tbody>\n",
       "    <tr>\n",
       "      <th>customer_number</th>\n",
       "      <td>0.000000</td>\n",
       "    </tr>\n",
       "    <tr>\n",
       "      <th>offer_accepted</th>\n",
       "      <td>0.000000</td>\n",
       "    </tr>\n",
       "    <tr>\n",
       "      <th>reward</th>\n",
       "      <td>0.000000</td>\n",
       "    </tr>\n",
       "    <tr>\n",
       "      <th>mailer_type</th>\n",
       "      <td>0.000000</td>\n",
       "    </tr>\n",
       "    <tr>\n",
       "      <th>income_level</th>\n",
       "      <td>0.000000</td>\n",
       "    </tr>\n",
       "    <tr>\n",
       "      <th>number_bank_accounts_open</th>\n",
       "      <td>0.000000</td>\n",
       "    </tr>\n",
       "    <tr>\n",
       "      <th>overdraft_protection</th>\n",
       "      <td>0.000000</td>\n",
       "    </tr>\n",
       "    <tr>\n",
       "      <th>credit_rating</th>\n",
       "      <td>0.000000</td>\n",
       "    </tr>\n",
       "    <tr>\n",
       "      <th>number_credit_cards_held</th>\n",
       "      <td>0.000000</td>\n",
       "    </tr>\n",
       "    <tr>\n",
       "      <th>number_homes_owned</th>\n",
       "      <td>0.000000</td>\n",
       "    </tr>\n",
       "    <tr>\n",
       "      <th>household_size</th>\n",
       "      <td>0.000000</td>\n",
       "    </tr>\n",
       "    <tr>\n",
       "      <th>own_your_home</th>\n",
       "      <td>0.000000</td>\n",
       "    </tr>\n",
       "    <tr>\n",
       "      <th>average_balance</th>\n",
       "      <td>0.133333</td>\n",
       "    </tr>\n",
       "    <tr>\n",
       "      <th>q1_balance</th>\n",
       "      <td>0.133333</td>\n",
       "    </tr>\n",
       "    <tr>\n",
       "      <th>q2_balance</th>\n",
       "      <td>0.133333</td>\n",
       "    </tr>\n",
       "    <tr>\n",
       "      <th>q3_balance</th>\n",
       "      <td>0.133333</td>\n",
       "    </tr>\n",
       "    <tr>\n",
       "      <th>q4_balance</th>\n",
       "      <td>0.133333</td>\n",
       "    </tr>\n",
       "  </tbody>\n",
       "</table>\n",
       "</div>"
      ],
      "text/plain": [
       "                           percentage_nulls\n",
       "customer_number                    0.000000\n",
       "offer_accepted                     0.000000\n",
       "reward                             0.000000\n",
       "mailer_type                        0.000000\n",
       "income_level                       0.000000\n",
       "number_bank_accounts_open          0.000000\n",
       "overdraft_protection               0.000000\n",
       "credit_rating                      0.000000\n",
       "number_credit_cards_held           0.000000\n",
       "number_homes_owned                 0.000000\n",
       "household_size                     0.000000\n",
       "own_your_home                      0.000000\n",
       "average_balance                    0.133333\n",
       "q1_balance                         0.133333\n",
       "q2_balance                         0.133333\n",
       "q3_balance                         0.133333\n",
       "q4_balance                         0.133333"
      ]
     },
     "execution_count": 15,
     "metadata": {},
     "output_type": "execute_result"
    }
   ],
   "source": [
    "per_NaN_columns(data)"
   ]
  },
  {
   "cell_type": "markdown",
   "id": "a7d3b321",
   "metadata": {},
   "source": [
    "**NaN-values row-wise:**"
   ]
  },
  {
   "cell_type": "code",
   "execution_count": null,
   "id": "5bebd3ea",
   "metadata": {},
   "outputs": [],
   "source": []
  },
  {
   "cell_type": "markdown",
   "id": "6d371dfd",
   "metadata": {},
   "source": [
    "**Conclusions:**"
   ]
  },
  {
   "cell_type": "code",
   "execution_count": 37,
   "id": "5792165d",
   "metadata": {},
   "outputs": [],
   "source": [
    "data = data.dropna()"
   ]
  },
  {
   "cell_type": "markdown",
   "id": "ade4053b",
   "metadata": {},
   "source": [
    "#### Checking value counts"
   ]
  },
  {
   "cell_type": "code",
   "execution_count": null,
   "id": "e30cea5f",
   "metadata": {},
   "outputs": [],
   "source": []
  },
  {
   "cell_type": "markdown",
   "id": "9ff9c353",
   "metadata": {},
   "source": [
    "#### Dealing with outliers"
   ]
  },
  {
   "cell_type": "code",
   "execution_count": 16,
   "id": "f616b42a",
   "metadata": {},
   "outputs": [],
   "source": [
    "def showing_boxplots(df):\n",
    "    for col in df.select_dtypes(np.number):\n",
    "        sns.boxplot(df[col])\n",
    "        plt.show()"
   ]
  },
  {
   "cell_type": "code",
   "execution_count": 17,
   "id": "9f3fe749",
   "metadata": {},
   "outputs": [
    {
     "data": {
      "image/png": "[encoded data removed]",
      "text/plain": [
       "<Figure size 432x288 with 1 Axes>"
      ]
     },
     "metadata": {
      "needs_background": "light"
     },
     "output_type": "display_data"
    },
    {
     "data": {
      "image/png": "[encoded data removed]",
      "text/plain": [
       "<Figure size 432x288 with 1 Axes>"
      ]
     },
     "metadata": {
      "needs_background": "light"
     },
     "output_type": "display_data"
    },
    {
     "data": {
      "image/png": "[encoded data removed]",
      "text/plain": [
       "<Figure size 432x288 with 1 Axes>"
      ]
     },
     "metadata": {
      "needs_background": "light"
     },
     "output_type": "display_data"
    },
    {
     "data": {
      "image/png": "[encoded data removed]",
      "text/plain": [
       "<Figure size 432x288 with 1 Axes>"
      ]
     },
     "metadata": {
      "needs_background": "light"
     },
     "output_type": "display_data"
    },
    {
     "data": {
      "image/png": "[encoded data removed]",
      "text/plain": [
       "<Figure size 432x288 with 1 Axes>"
      ]
     },
     "metadata": {
      "needs_background": "light"
     },
     "output_type": "display_data"
    },
    {
     "data": {
      "image/png": "[encoded data removed]",
      "text/plain": [
       "<Figure size 432x288 with 1 Axes>"
      ]
     },
     "metadata": {
      "needs_background": "light"
     },
     "output_type": "display_data"
    },
    {
     "data": {
      "image/png": "[encoded data removed]",
      "text/plain": [
       "<Figure size 432x288 with 1 Axes>"
      ]
     },
     "metadata": {
      "needs_background": "light"
     },
     "output_type": "display_data"
    },
    {
     "data": {
      "image/png": "[encoded data removed]",
      "text/plain": [
       "<Figure size 432x288 with 1 Axes>"
      ]
     },
     "metadata": {
      "needs_background": "light"
     },
     "output_type": "display_data"
    },
    {
     "data": {
      "image/png": "[encoded data removed]",
      "text/plain": [
       "<Figure size 432x288 with 1 Axes>"
      ]
     },
     "metadata": {
      "needs_background": "light"
     },
     "output_type": "display_data"
    },
    {
     "data": {
      "image/png": "[encoded data removed]",
      "text/plain": [
       "<Figure size 432x288 with 1 Axes>"
      ]
     },
     "metadata": {
      "needs_background": "light"
     },
     "output_type": "display_data"
    }
   ],
   "source": [
    "showing_boxplots(data)"
   ]
  },
  {
   "cell_type": "code",
   "execution_count": 19,
   "id": "0dc36e6e",
   "metadata": {},
   "outputs": [],
   "source": [
    "def cutting_outliers(df, threshold=1.5, in_columns=[], skip_columns=[]):\n",
    "    for column in in_columns:\n",
    "        if column not in skip_columns:\n",
    "            upper = np.percentile(df[column],75)\n",
    "            lower = np.percentile(df[column],25)\n",
    "            iqr = upper - lower\n",
    "            upper_limit = upper + (threshold * iqr)\n",
    "            lower_limit = lower - (threshold * iqr)\n",
    "            data.loc[df[column] > upper_limit, column] = upper_limit\n",
    "            data.loc[df[column] < lower_limit, column] = lower_limit\n",
    "    return data"
   ]
  },
  {
   "cell_type": "code",
   "execution_count": 20,
   "id": "d419c367",
   "metadata": {},
   "outputs": [],
   "source": [
    "data = cutting_outliers(data, threshold=1.5, in_columns=data.select_dtypes(np.number), skip_columns=[])"
   ]
  },
  {
   "cell_type": "code",
   "execution_count": 21,
   "id": "2d42bf2c",
   "metadata": {},
   "outputs": [
    {
     "data": {
      "image/png": "[encoded data removed]",
      "text/plain": [
       "<Figure size 432x288 with 1 Axes>"
      ]
     },
     "metadata": {
      "needs_background": "light"
     },
     "output_type": "display_data"
    },
    {
     "data": {
      "image/png": "[encoded data removed]",
      "text/plain": [
       "<Figure size 432x288 with 1 Axes>"
      ]
     },
     "metadata": {
      "needs_background": "light"
     },
     "output_type": "display_data"
    },
    {
     "data": {
      "image/png": "[encoded data removed]",
      "text/plain": [
       "<Figure size 432x288 with 1 Axes>"
      ]
     },
     "metadata": {
      "needs_background": "light"
     },
     "output_type": "display_data"
    },
    {
     "data": {
      "image/png": "[encoded data removed]",
      "text/plain": [
       "<Figure size 432x288 with 1 Axes>"
      ]
     },
     "metadata": {
      "needs_background": "light"
     },
     "output_type": "display_data"
    },
    {
     "data": {
      "image/png": "[encoded data removed]",
      "text/plain": [
       "<Figure size 432x288 with 1 Axes>"
      ]
     },
     "metadata": {
      "needs_background": "light"
     },
     "output_type": "display_data"
    },
    {
     "data": {
      "image/png": "[encoded data removed]",
      "text/plain": [
       "<Figure size 432x288 with 1 Axes>"
      ]
     },
     "metadata": {
      "needs_background": "light"
     },
     "output_type": "display_data"
    },
    {
     "data": {
      "image/png": "[encoded data removed]",
      "text/plain": [
       "<Figure size 432x288 with 1 Axes>"
      ]
     },
     "metadata": {
      "needs_background": "light"
     },
     "output_type": "display_data"
    },
    {
     "data": {
      "image/png": "[encoded data removed]",
      "text/plain": [
       "<Figure size 432x288 with 1 Axes>"
      ]
     },
     "metadata": {
      "needs_background": "light"
     },
     "output_type": "display_data"
    },
    {
     "data": {
      "image/png": "[encoded data removed]",
      "text/plain": [
       "<Figure size 432x288 with 1 Axes>"
      ]
     },
     "metadata": {
      "needs_background": "light"
     },
     "output_type": "display_data"
    },
    {
     "data": {
      "image/png": "[encoded data removed]",
      "text/plain": [
       "<Figure size 432x288 with 1 Axes>"
      ]
     },
     "metadata": {
      "needs_background": "light"
     },
     "output_type": "display_data"
    }
   ],
   "source": [
    "showing_boxplots(data)"
   ]
  },
  {
   "cell_type": "markdown",
   "id": "3a7f5641",
   "metadata": {},
   "source": [
    "### Data wrangling"
   ]
  },
  {
   "cell_type": "markdown",
   "id": "a752a9f3",
   "metadata": {},
   "source": [
    "#### Distribution"
   ]
  },
  {
   "cell_type": "code",
   "execution_count": 22,
   "id": "bc92b454",
   "metadata": {},
   "outputs": [],
   "source": [
    "def showing_dist(df):\n",
    "    for col in df.select_dtypes(np.number):\n",
    "        sns.distplot(df[col])\n",
    "        plt.show()"
   ]
  },
  {
   "cell_type": "code",
   "execution_count": null,
   "id": "e0c87cf4",
   "metadata": {},
   "outputs": [],
   "source": []
  },
  {
   "cell_type": "code",
   "execution_count": null,
   "id": "1e731293",
   "metadata": {},
   "outputs": [],
   "source": [
    "def boxcox_transform(df, skip_columns=[]):\n",
    "    numeric_cols = df.select_dtypes(np.number).columns\n",
    "    _ci = {column: None for column in numeric_cols}\n",
    "    for column in numeric_cols:\n",
    "        if column not in skip_columns:\n",
    "            df[column] = np.where(df[column]<=0, np.NAN, df[column]) \n",
    "            df[column] = df[column].fillna(df[column].mean())\n",
    "            transformed_data, ci = stats.boxcox(df[column])\n",
    "            df[column] = transformed_data\n",
    "            _ci[column] = [ci] \n",
    "    return df, _ci"
   ]
  },
  {
   "cell_type": "code",
   "execution_count": null,
   "id": "238a8a83",
   "metadata": {},
   "outputs": [],
   "source": [
    "data, _ci = boxcox_transform(data, skip_columns=[])"
   ]
  },
  {
   "cell_type": "code",
   "execution_count": null,
   "id": "ac2628c0",
   "metadata": {},
   "outputs": [],
   "source": []
  },
  {
   "cell_type": "markdown",
   "id": "f600ec1f",
   "metadata": {},
   "source": [
    "#### Scaling the data"
   ]
  },
  {
   "cell_type": "code",
   "execution_count": null,
   "id": "93127c2c",
   "metadata": {},
   "outputs": [],
   "source": []
  },
  {
   "cell_type": "markdown",
   "id": "f2b1754b",
   "metadata": {},
   "source": [
    "## Preprocessing data"
   ]
  },
  {
   "cell_type": "markdown",
   "id": "3fe0d61c",
   "metadata": {},
   "source": [
    "### checking correlation: heatmap, VIF, chi square test"
   ]
  },
  {
   "cell_type": "markdown",
   "id": "82481a31",
   "metadata": {},
   "source": [
    "#### Numerical data"
   ]
  },
  {
   "cell_type": "code",
   "execution_count": 28,
   "id": "5876445c",
   "metadata": {},
   "outputs": [
    {
     "data": {
      "text/html": [
       "<div>\n",
       "<style scoped>\n",
       "    .dataframe tbody tr th:only-of-type {\n",
       "        vertical-align: middle;\n",
       "    }\n",
       "\n",
       "    .dataframe tbody tr th {\n",
       "        vertical-align: top;\n",
       "    }\n",
       "\n",
       "    .dataframe thead th {\n",
       "        text-align: right;\n",
       "    }\n",
       "</style>\n",
       "<table border=\"1\" class=\"dataframe\">\n",
       "  <thead>\n",
       "    <tr style=\"text-align: right;\">\n",
       "      <th></th>\n",
       "      <th>Customer Number</th>\n",
       "      <th># Bank Accounts Open</th>\n",
       "      <th># Credit Cards Held</th>\n",
       "      <th># Homes Owned</th>\n",
       "      <th>Household Size</th>\n",
       "      <th>Average Balance</th>\n",
       "      <th>Q1 Balance</th>\n",
       "      <th>Q2 Balance</th>\n",
       "      <th>Q3 Balance</th>\n",
       "      <th>Q4 Balance</th>\n",
       "    </tr>\n",
       "  </thead>\n",
       "  <tbody>\n",
       "    <tr>\n",
       "      <th>Customer Number</th>\n",
       "      <td>1.000000</td>\n",
       "      <td>-0.004617</td>\n",
       "      <td>-0.008215</td>\n",
       "      <td>-0.002828</td>\n",
       "      <td>0.006111</td>\n",
       "      <td>0.009357</td>\n",
       "      <td>0.012216</td>\n",
       "      <td>0.011570</td>\n",
       "      <td>0.006401</td>\n",
       "      <td>-0.005901</td>\n",
       "    </tr>\n",
       "    <tr>\n",
       "      <th># Bank Accounts Open</th>\n",
       "      <td>-0.004617</td>\n",
       "      <td>1.000000</td>\n",
       "      <td>-0.001728</td>\n",
       "      <td>0.004772</td>\n",
       "      <td>0.008479</td>\n",
       "      <td>-0.003909</td>\n",
       "      <td>-0.002814</td>\n",
       "      <td>-0.007956</td>\n",
       "      <td>0.000190</td>\n",
       "      <td>-0.000356</td>\n",
       "    </tr>\n",
       "    <tr>\n",
       "      <th># Credit Cards Held</th>\n",
       "      <td>-0.008215</td>\n",
       "      <td>-0.001728</td>\n",
       "      <td>1.000000</td>\n",
       "      <td>-0.002547</td>\n",
       "      <td>-0.003074</td>\n",
       "      <td>-0.003469</td>\n",
       "      <td>-0.009446</td>\n",
       "      <td>-0.007373</td>\n",
       "      <td>-0.007623</td>\n",
       "      <td>0.015362</td>\n",
       "    </tr>\n",
       "    <tr>\n",
       "      <th># Homes Owned</th>\n",
       "      <td>-0.002828</td>\n",
       "      <td>0.004772</td>\n",
       "      <td>-0.002547</td>\n",
       "      <td>1.000000</td>\n",
       "      <td>0.005304</td>\n",
       "      <td>0.017967</td>\n",
       "      <td>0.013143</td>\n",
       "      <td>0.009758</td>\n",
       "      <td>0.007775</td>\n",
       "      <td>0.014775</td>\n",
       "    </tr>\n",
       "    <tr>\n",
       "      <th>Household Size</th>\n",
       "      <td>0.006111</td>\n",
       "      <td>0.008479</td>\n",
       "      <td>-0.003074</td>\n",
       "      <td>0.005304</td>\n",
       "      <td>1.000000</td>\n",
       "      <td>-0.003582</td>\n",
       "      <td>-0.005080</td>\n",
       "      <td>-0.008766</td>\n",
       "      <td>0.003633</td>\n",
       "      <td>0.000232</td>\n",
       "    </tr>\n",
       "    <tr>\n",
       "      <th>Average Balance</th>\n",
       "      <td>0.009357</td>\n",
       "      <td>-0.003909</td>\n",
       "      <td>-0.003469</td>\n",
       "      <td>0.017967</td>\n",
       "      <td>-0.003582</td>\n",
       "      <td>1.000000</td>\n",
       "      <td>0.481507</td>\n",
       "      <td>0.800285</td>\n",
       "      <td>0.752741</td>\n",
       "      <td>0.572380</td>\n",
       "    </tr>\n",
       "    <tr>\n",
       "      <th>Q1 Balance</th>\n",
       "      <td>0.012216</td>\n",
       "      <td>-0.002814</td>\n",
       "      <td>-0.009446</td>\n",
       "      <td>0.013143</td>\n",
       "      <td>-0.005080</td>\n",
       "      <td>0.481507</td>\n",
       "      <td>1.000000</td>\n",
       "      <td>0.483134</td>\n",
       "      <td>-0.060961</td>\n",
       "      <td>-0.237283</td>\n",
       "    </tr>\n",
       "    <tr>\n",
       "      <th>Q2 Balance</th>\n",
       "      <td>0.011570</td>\n",
       "      <td>-0.007956</td>\n",
       "      <td>-0.007373</td>\n",
       "      <td>0.009758</td>\n",
       "      <td>-0.008766</td>\n",
       "      <td>0.800285</td>\n",
       "      <td>0.483134</td>\n",
       "      <td>1.000000</td>\n",
       "      <td>0.487710</td>\n",
       "      <td>0.168955</td>\n",
       "    </tr>\n",
       "    <tr>\n",
       "      <th>Q3 Balance</th>\n",
       "      <td>0.006401</td>\n",
       "      <td>0.000190</td>\n",
       "      <td>-0.007623</td>\n",
       "      <td>0.007775</td>\n",
       "      <td>0.003633</td>\n",
       "      <td>0.752741</td>\n",
       "      <td>-0.060961</td>\n",
       "      <td>0.487710</td>\n",
       "      <td>1.000000</td>\n",
       "      <td>0.565298</td>\n",
       "    </tr>\n",
       "    <tr>\n",
       "      <th>Q4 Balance</th>\n",
       "      <td>-0.005901</td>\n",
       "      <td>-0.000356</td>\n",
       "      <td>0.015362</td>\n",
       "      <td>0.014775</td>\n",
       "      <td>0.000232</td>\n",
       "      <td>0.572380</td>\n",
       "      <td>-0.237283</td>\n",
       "      <td>0.168955</td>\n",
       "      <td>0.565298</td>\n",
       "      <td>1.000000</td>\n",
       "    </tr>\n",
       "  </tbody>\n",
       "</table>\n",
       "</div>"
      ],
      "text/plain": [
       "                      Customer Number  # Bank Accounts Open  \\\n",
       "Customer Number              1.000000             -0.004617   \n",
       "# Bank Accounts Open        -0.004617              1.000000   \n",
       "# Credit Cards Held         -0.008215             -0.001728   \n",
       "# Homes Owned               -0.002828              0.004772   \n",
       "Household Size               0.006111              0.008479   \n",
       "Average Balance              0.009357             -0.003909   \n",
       "Q1 Balance                   0.012216             -0.002814   \n",
       "Q2 Balance                   0.011570             -0.007956   \n",
       "Q3 Balance                   0.006401              0.000190   \n",
       "Q4 Balance                  -0.005901             -0.000356   \n",
       "\n",
       "                      # Credit Cards Held  # Homes Owned  Household Size  \\\n",
       "Customer Number                 -0.008215      -0.002828        0.006111   \n",
       "# Bank Accounts Open            -0.001728       0.004772        0.008479   \n",
       "# Credit Cards Held              1.000000      -0.002547       -0.003074   \n",
       "# Homes Owned                   -0.002547       1.000000        0.005304   \n",
       "Household Size                  -0.003074       0.005304        1.000000   \n",
       "Average Balance                 -0.003469       0.017967       -0.003582   \n",
       "Q1 Balance                      -0.009446       0.013143       -0.005080   \n",
       "Q2 Balance                      -0.007373       0.009758       -0.008766   \n",
       "Q3 Balance                      -0.007623       0.007775        0.003633   \n",
       "Q4 Balance                       0.015362       0.014775        0.000232   \n",
       "\n",
       "                      Average Balance  Q1 Balance  Q2 Balance  Q3 Balance  \\\n",
       "Customer Number              0.009357    0.012216    0.011570    0.006401   \n",
       "# Bank Accounts Open        -0.003909   -0.002814   -0.007956    0.000190   \n",
       "# Credit Cards Held         -0.003469   -0.009446   -0.007373   -0.007623   \n",
       "# Homes Owned                0.017967    0.013143    0.009758    0.007775   \n",
       "Household Size              -0.003582   -0.005080   -0.008766    0.003633   \n",
       "Average Balance              1.000000    0.481507    0.800285    0.752741   \n",
       "Q1 Balance                   0.481507    1.000000    0.483134   -0.060961   \n",
       "Q2 Balance                   0.800285    0.483134    1.000000    0.487710   \n",
       "Q3 Balance                   0.752741   -0.060961    0.487710    1.000000   \n",
       "Q4 Balance                   0.572380   -0.237283    0.168955    0.565298   \n",
       "\n",
       "                      Q4 Balance  \n",
       "Customer Number        -0.005901  \n",
       "# Bank Accounts Open   -0.000356  \n",
       "# Credit Cards Held     0.015362  \n",
       "# Homes Owned           0.014775  \n",
       "Household Size          0.000232  \n",
       "Average Balance         0.572380  \n",
       "Q1 Balance             -0.237283  \n",
       "Q2 Balance              0.168955  \n",
       "Q3 Balance              0.565298  \n",
       "Q4 Balance              1.000000  "
      ]
     },
     "execution_count": 28,
     "metadata": {},
     "output_type": "execute_result"
    }
   ],
   "source": [
    "correlations_matrix = data.corr()  \n",
    "correlations_matrix"
   ]
  },
  {
   "cell_type": "code",
   "execution_count": 29,
   "id": "ede645ef",
   "metadata": {},
   "outputs": [
    {
     "data": {
      "image/png": "[encoded data removed]",
      "text/plain": [
       "<Figure size 1296x864 with 2 Axes>"
      ]
     },
     "metadata": {
      "needs_background": "light"
     },
     "output_type": "display_data"
    }
   ],
   "source": [
    "mask = np.zeros_like(correlations_matrix)\n",
    "\n",
    "mask[np.triu_indices_from(mask)] = True \n",
    "\n",
    "fig, ax = plt.subplots(figsize=(18, 12))\n",
    "ax = sns.heatmap(correlations_matrix, mask=mask, annot=True)\n",
    "plt.show()"
   ]
  },
  {
   "cell_type": "markdown",
   "id": "c49d67d2",
   "metadata": {},
   "source": [
    "#### Categorical data"
   ]
  },
  {
   "cell_type": "code",
   "execution_count": null,
   "id": "8c7a8205",
   "metadata": {},
   "outputs": [],
   "source": []
  },
  {
   "cell_type": "markdown",
   "id": "ff79ef4a",
   "metadata": {},
   "source": [
    "### Encoding categorical variables"
   ]
  },
  {
   "cell_type": "code",
   "execution_count": 45,
   "id": "dcf8e8f0",
   "metadata": {},
   "outputs": [
    {
     "data": {
      "text/html": [
       "<div>\n",
       "<style scoped>\n",
       "    .dataframe tbody tr th:only-of-type {\n",
       "        vertical-align: middle;\n",
       "    }\n",
       "\n",
       "    .dataframe tbody tr th {\n",
       "        vertical-align: top;\n",
       "    }\n",
       "\n",
       "    .dataframe thead th {\n",
       "        text-align: right;\n",
       "    }\n",
       "</style>\n",
       "<table border=\"1\" class=\"dataframe\">\n",
       "  <thead>\n",
       "    <tr style=\"text-align: right;\">\n",
       "      <th></th>\n",
       "      <th>offer_accepted</th>\n",
       "      <th>reward</th>\n",
       "      <th>mailer_type</th>\n",
       "      <th>income_level</th>\n",
       "      <th>overdraft_protection</th>\n",
       "      <th>credit_rating</th>\n",
       "      <th>own_your_home</th>\n",
       "    </tr>\n",
       "  </thead>\n",
       "  <tbody>\n",
       "    <tr>\n",
       "      <th>0</th>\n",
       "      <td>No</td>\n",
       "      <td>Air Miles</td>\n",
       "      <td>Letter</td>\n",
       "      <td>High</td>\n",
       "      <td>No</td>\n",
       "      <td>High</td>\n",
       "      <td>No</td>\n",
       "    </tr>\n",
       "    <tr>\n",
       "      <th>1</th>\n",
       "      <td>No</td>\n",
       "      <td>Air Miles</td>\n",
       "      <td>Letter</td>\n",
       "      <td>Medium</td>\n",
       "      <td>No</td>\n",
       "      <td>Medium</td>\n",
       "      <td>Yes</td>\n",
       "    </tr>\n",
       "    <tr>\n",
       "      <th>2</th>\n",
       "      <td>No</td>\n",
       "      <td>Air Miles</td>\n",
       "      <td>Postcard</td>\n",
       "      <td>High</td>\n",
       "      <td>No</td>\n",
       "      <td>Medium</td>\n",
       "      <td>Yes</td>\n",
       "    </tr>\n",
       "    <tr>\n",
       "      <th>3</th>\n",
       "      <td>No</td>\n",
       "      <td>Air Miles</td>\n",
       "      <td>Letter</td>\n",
       "      <td>Medium</td>\n",
       "      <td>No</td>\n",
       "      <td>High</td>\n",
       "      <td>No</td>\n",
       "    </tr>\n",
       "    <tr>\n",
       "      <th>4</th>\n",
       "      <td>No</td>\n",
       "      <td>Air Miles</td>\n",
       "      <td>Letter</td>\n",
       "      <td>Medium</td>\n",
       "      <td>No</td>\n",
       "      <td>Medium</td>\n",
       "      <td>Yes</td>\n",
       "    </tr>\n",
       "    <tr>\n",
       "      <th>...</th>\n",
       "      <td>...</td>\n",
       "      <td>...</td>\n",
       "      <td>...</td>\n",
       "      <td>...</td>\n",
       "      <td>...</td>\n",
       "      <td>...</td>\n",
       "      <td>...</td>\n",
       "    </tr>\n",
       "    <tr>\n",
       "      <th>17971</th>\n",
       "      <td>No</td>\n",
       "      <td>Cash Back</td>\n",
       "      <td>Letter</td>\n",
       "      <td>High</td>\n",
       "      <td>No</td>\n",
       "      <td>Low</td>\n",
       "      <td>Yes</td>\n",
       "    </tr>\n",
       "    <tr>\n",
       "      <th>17972</th>\n",
       "      <td>No</td>\n",
       "      <td>Cash Back</td>\n",
       "      <td>Letter</td>\n",
       "      <td>High</td>\n",
       "      <td>No</td>\n",
       "      <td>Low</td>\n",
       "      <td>Yes</td>\n",
       "    </tr>\n",
       "    <tr>\n",
       "      <th>17973</th>\n",
       "      <td>No</td>\n",
       "      <td>Cash Back</td>\n",
       "      <td>Letter</td>\n",
       "      <td>High</td>\n",
       "      <td>No</td>\n",
       "      <td>Low</td>\n",
       "      <td>No</td>\n",
       "    </tr>\n",
       "    <tr>\n",
       "      <th>17974</th>\n",
       "      <td>No</td>\n",
       "      <td>Cash Back</td>\n",
       "      <td>Letter</td>\n",
       "      <td>Medium</td>\n",
       "      <td>No</td>\n",
       "      <td>Medium</td>\n",
       "      <td>Yes</td>\n",
       "    </tr>\n",
       "    <tr>\n",
       "      <th>17975</th>\n",
       "      <td>No</td>\n",
       "      <td>Cash Back</td>\n",
       "      <td>Letter</td>\n",
       "      <td>Low</td>\n",
       "      <td>No</td>\n",
       "      <td>Medium</td>\n",
       "      <td>No</td>\n",
       "    </tr>\n",
       "  </tbody>\n",
       "</table>\n",
       "<p>17976 rows × 7 columns</p>\n",
       "</div>"
      ],
      "text/plain": [
       "      offer_accepted     reward mailer_type income_level overdraft_protection  \\\n",
       "0                 No  Air Miles      Letter         High                   No   \n",
       "1                 No  Air Miles      Letter       Medium                   No   \n",
       "2                 No  Air Miles    Postcard         High                   No   \n",
       "3                 No  Air Miles      Letter       Medium                   No   \n",
       "4                 No  Air Miles      Letter       Medium                   No   \n",
       "...              ...        ...         ...          ...                  ...   \n",
       "17971             No  Cash Back      Letter         High                   No   \n",
       "17972             No  Cash Back      Letter         High                   No   \n",
       "17973             No  Cash Back      Letter         High                   No   \n",
       "17974             No  Cash Back      Letter       Medium                   No   \n",
       "17975             No  Cash Back      Letter          Low                   No   \n",
       "\n",
       "      credit_rating own_your_home  \n",
       "0              High            No  \n",
       "1            Medium           Yes  \n",
       "2            Medium           Yes  \n",
       "3              High            No  \n",
       "4            Medium           Yes  \n",
       "...             ...           ...  \n",
       "17971           Low           Yes  \n",
       "17972           Low           Yes  \n",
       "17973           Low            No  \n",
       "17974        Medium           Yes  \n",
       "17975        Medium            No  \n",
       "\n",
       "[17976 rows x 7 columns]"
      ]
     },
     "execution_count": 45,
     "metadata": {},
     "output_type": "execute_result"
    }
   ],
   "source": [
    "data.select_dtypes(np.object)"
   ]
  },
  {
   "cell_type": "code",
   "execution_count": 46,
   "id": "8f01844b",
   "metadata": {},
   "outputs": [],
   "source": [
    "X = data.drop('offer_accepted', axis=1)\n",
    "y = data['offer_accepted']"
   ]
  },
  {
   "cell_type": "code",
   "execution_count": 47,
   "id": "ae77f60f",
   "metadata": {},
   "outputs": [],
   "source": [
    "X = pd.get_dummies(X)"
   ]
  },
  {
   "cell_type": "markdown",
   "id": "c197bd85",
   "metadata": {},
   "source": [
    "### Conclusion: feature extraction"
   ]
  },
  {
   "cell_type": "code",
   "execution_count": null,
   "id": "1fb53527",
   "metadata": {},
   "outputs": [],
   "source": []
  },
  {
   "cell_type": "code",
   "execution_count": null,
   "id": "3be7aedc",
   "metadata": {},
   "outputs": [],
   "source": []
  },
  {
   "cell_type": "code",
   "execution_count": null,
   "id": "a515051d",
   "metadata": {},
   "outputs": [],
   "source": []
  },
  {
   "cell_type": "markdown",
   "id": "3885a063",
   "metadata": {},
   "source": [
    "## Model building"
   ]
  },
  {
   "cell_type": "markdown",
   "id": "d4bb5d0b",
   "metadata": {},
   "source": [
    "### Train-test-split"
   ]
  },
  {
   "cell_type": "code",
   "execution_count": null,
   "id": "811e0f67",
   "metadata": {},
   "outputs": [],
   "source": []
  },
  {
   "cell_type": "code",
   "execution_count": 48,
   "id": "cd61735f",
   "metadata": {},
   "outputs": [],
   "source": [
    "X_train, X_test, y_train, y_test = train_test_split(X, y, test_size=0.2, random_state=13)"
   ]
  },
  {
   "cell_type": "markdown",
   "id": "2cdeecbf",
   "metadata": {},
   "source": [
    "### Trying different models"
   ]
  },
  {
   "cell_type": "markdown",
   "id": "bd570e7f",
   "metadata": {},
   "source": [
    "#### Logistic regression model"
   ]
  },
  {
   "cell_type": "code",
   "execution_count": 49,
   "id": "5c9bebf6",
   "metadata": {},
   "outputs": [
    {
     "data": {
      "text/plain": [
       "LogisticRegression(max_iter=500, random_state=42)"
      ]
     },
     "execution_count": 49,
     "metadata": {},
     "output_type": "execute_result"
    }
   ],
   "source": [
    "classification = LogisticRegression(random_state=42, max_iter=500) \n",
    "classification.fit(X_train, y_train)"
   ]
  },
  {
   "cell_type": "code",
   "execution_count": 50,
   "id": "8600b32e",
   "metadata": {},
   "outputs": [
    {
     "data": {
      "text/plain": [
       "0.9424360400444939"
      ]
     },
     "execution_count": 50,
     "metadata": {},
     "output_type": "execute_result"
    }
   ],
   "source": [
    "classification.score(X_test, y_test)"
   ]
  },
  {
   "cell_type": "code",
   "execution_count": 51,
   "id": "e66b0e9e",
   "metadata": {},
   "outputs": [
    {
     "data": {
      "text/plain": [
       "No    3596\n",
       "dtype: int64"
      ]
     },
     "execution_count": 51,
     "metadata": {},
     "output_type": "execute_result"
    }
   ],
   "source": [
    "predictions = classification.predict(X_test)\n",
    "\n",
    "pd.Series(predictions).value_counts()"
   ]
  },
  {
   "cell_type": "code",
   "execution_count": null,
   "id": "bd8f472a",
   "metadata": {},
   "outputs": [],
   "source": []
  },
  {
   "cell_type": "markdown",
   "id": "638862de",
   "metadata": {},
   "source": [
    "**Confusion matrix**"
   ]
  },
  {
   "cell_type": "code",
   "execution_count": 52,
   "id": "07913fec",
   "metadata": {},
   "outputs": [
    {
     "data": {
      "text/plain": [
       "array([[3389,    0],\n",
       "       [ 207,    0]], dtype=int64)"
      ]
     },
     "execution_count": 52,
     "metadata": {},
     "output_type": "execute_result"
    }
   ],
   "source": [
    "confusion_matrix(y_test, predictions)"
   ]
  },
  {
   "cell_type": "code",
   "execution_count": 53,
   "id": "d99fe765",
   "metadata": {},
   "outputs": [
    {
     "data": {
      "text/plain": [
       "<AxesSubplot:>"
      ]
     },
     "execution_count": 53,
     "metadata": {},
     "output_type": "execute_result"
    },
    {
     "data": {
      "image/png": "[encoded data removed]",
      "text/plain": [
       "<Figure size 432x288 with 2 Axes>"
      ]
     },
     "metadata": {
      "needs_background": "light"
     },
     "output_type": "display_data"
    }
   ],
   "source": [
    "cf_matrix = confusion_matrix(y_test, predictions)\n",
    "group_names = ['True A', 'False A',\n",
    "               'False B', 'True B']\n",
    "\n",
    "group_counts = [\"{0:0.0f}\".format(value) for value in cf_matrix.flatten()]\n",
    "group_percentages = [\"{0:.2%}\".format(value) for value in cf_matrix.flatten()/np.sum(cf_matrix)]\n",
    "labels = [f\"{v1}\\n{v2}\\n{v3}\" for v1, v2, v3 in zip(group_names,group_counts,group_percentages)]\n",
    "labels = np.asarray(labels).reshape(2,2)\n",
    "sns.heatmap(cf_matrix, annot=labels, fmt='', cmap='Blues')"
   ]
  },
  {
   "cell_type": "markdown",
   "id": "6e44229d",
   "metadata": {},
   "source": [
    "#### KNN algorithm"
   ]
  },
  {
   "cell_type": "code",
   "execution_count": 54,
   "id": "aec2b520",
   "metadata": {},
   "outputs": [
    {
     "data": {
      "text/plain": [
       "KNeighborsClassifier(n_neighbors=4)"
      ]
     },
     "execution_count": 54,
     "metadata": {},
     "output_type": "execute_result"
    }
   ],
   "source": [
    "model = KNeighborsClassifier(n_neighbors=4)\n",
    "model.fit(X_train, y_train)"
   ]
  },
  {
   "cell_type": "code",
   "execution_count": 55,
   "id": "f895b853",
   "metadata": {},
   "outputs": [
    {
     "name": "stdout",
     "output_type": "stream",
     "text": [
      "0.9421579532814238\n"
     ]
    }
   ],
   "source": [
    "y_pred = model.predict(X_test)\n",
    "print(metrics.accuracy_score(y_test, y_pred))"
   ]
  },
  {
   "cell_type": "markdown",
   "id": "73e90aaa",
   "metadata": {},
   "source": [
    "finding best number for neigherst neighbor:"
   ]
  },
  {
   "cell_type": "code",
   "execution_count": 57,
   "id": "00d13a9e",
   "metadata": {},
   "outputs": [],
   "source": [
    "scores = []\n",
    "for i in range(2,10):\n",
    "    model = KNeighborsClassifier(n_neighbors=i)\n",
    "    model.fit(X_train, y_train)\n",
    "    scores.append(model.score(X_test, y_test))"
   ]
  },
  {
   "cell_type": "code",
   "execution_count": 58,
   "id": "2a4b7308",
   "metadata": {},
   "outputs": [
    {
     "data": {
      "text/plain": [
       "Text(0, 0.5, 'Accuracy')"
      ]
     },
     "execution_count": 58,
     "metadata": {},
     "output_type": "execute_result"
    },
    {
     "data": {
      "image/png": "[encoded data removed]",
      "text/plain": [
       "<Figure size 720x432 with 1 Axes>"
      ]
     },
     "metadata": {
      "needs_background": "light"
     },
     "output_type": "display_data"
    }
   ],
   "source": [
    "plt.figure(figsize=(10,6))\n",
    "plt.plot(range(2,10),scores,color = 'blue', linestyle='dashed',\n",
    "         marker='*', markerfacecolor='red', markersize=10)\n",
    "plt.title('accuracy scores vs. K Value')\n",
    "plt.xlabel('K')\n",
    "plt.ylabel('Accuracy')"
   ]
  },
  {
   "cell_type": "markdown",
   "id": "e7481344",
   "metadata": {},
   "source": [
    "### Model improvement"
   ]
  },
  {
   "cell_type": "markdown",
   "id": "fae26c9f",
   "metadata": {},
   "source": [
    "#### Dealing with data imbalance"
   ]
  },
  {
   "cell_type": "markdown",
   "id": "8fbcd9e5",
   "metadata": {},
   "source": [
    "Undersampling, oversampling, SMOTE, Tomek"
   ]
  },
  {
   "cell_type": "code",
   "execution_count": null,
   "id": "fcb6a39e",
   "metadata": {},
   "outputs": [],
   "source": []
  },
  {
   "cell_type": "code",
   "execution_count": null,
   "id": "b9437768",
   "metadata": {},
   "outputs": [],
   "source": []
  },
  {
   "cell_type": "markdown",
   "id": "db93d129",
   "metadata": {},
   "source": [
    "## Results"
   ]
  },
  {
   "cell_type": "code",
   "execution_count": null,
   "id": "d33e3b9e",
   "metadata": {},
   "outputs": [],
   "source": []
  }
 ],
 "metadata": {
  "kernelspec": {
   "display_name": "Python 3",
   "language": "python",
   "name": "python3"
  },
  "language_info": {
   "codemirror_mode": {
    "name": "ipython",
    "version": 3
   },
   "file_extension": ".py",
   "mimetype": "text/x-python",
   "name": "python",
   "nbconvert_exporter": "python",
   "pygments_lexer": "ipython3",
   "version": "3.9.6"
  },
  "toc": {
   "base_numbering": 1,
   "nav_menu": {},
   "number_sections": true,
   "sideBar": true,
   "skip_h1_title": true,
   "title_cell": "Table of Contents",
   "title_sidebar": "Contents",
   "toc_cell": true,
   "toc_position": {},
   "toc_section_display": true,
   "toc_window_display": true
  }
 },
 "nbformat": 4,
 "nbformat_minor": 5
}
